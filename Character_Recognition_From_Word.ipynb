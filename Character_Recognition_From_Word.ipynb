{
  "cells": [
    {
      "cell_type": "code",
      "execution_count": null,
      "id": "bec1d326",
      "metadata": {
        "id": "bec1d326"
      },
      "outputs": [],
      "source": [
        "import numpy as np\n",
        "import pandas as pd\n",
        "from keras.preprocessing.image import ImageDataGenerator\n",
        "import os\n",
        "import random \n",
        "import cv2\n",
        "import imutils\n",
        "import random\n",
        "import matplotlib.pyplot as plt\n",
        "import seaborn as sns\n",
        "from sklearn.preprocessing import LabelBinarizer\n",
        "from keras.utils import np_utils\n",
        "from keras.models import Sequential\n",
        "from keras import optimizers\n",
        "from sklearn.preprocessing import LabelBinarizer\n",
        "from keras import backend as K\n",
        "from keras.layers import Dense, Activation, Flatten, Dense,MaxPooling2D, Dropout\n",
        "from keras.layers import Conv2D, MaxPooling2D, BatchNormalization"
      ]
    },
    {
      "cell_type": "code",
      "execution_count": null,
      "id": "4c0f9f02",
      "metadata": {
        "id": "4c0f9f02"
      },
      "outputs": [],
      "source": [
        "dir = \"D:/mosaicPS1/train/\"\n",
        "train_data = []\n",
        "img_size = 32\n",
        "non_chars = [\"#\",\"$\",\"&\",\"@\"]\n",
        "for i in os.listdir(dir):\n",
        "    if i in non_chars:\n",
        "        continue\n",
        "    count = 0\n",
        "    sub_directory = os.path.join(dir,i)\n",
        "    for j in os.listdir(sub_directory):\n",
        "        count+=1\n",
        "        if count > 4000:\n",
        "            break\n",
        "        img = cv2.imread(os.path.join(sub_directory,j),0)\n",
        "        img = cv2.resize(img,(img_size,img_size))\n",
        "        train_data.append([img,i])"
      ]
    },
    {
      "cell_type": "code",
      "execution_count": null,
      "id": "dfc710e9",
      "metadata": {
        "id": "dfc710e9",
        "outputId": "35c66008-abb1-41ec-83ad-b1a1a6446e9e"
      },
      "outputs": [
        {
          "data": {
            "text/plain": [
              "5549"
            ]
          },
          "execution_count": 3,
          "metadata": {},
          "output_type": "execute_result"
        }
      ],
      "source": [
        "len(train_data)"
      ]
    },
    {
      "cell_type": "code",
      "execution_count": null,
      "id": "a54cdb8f",
      "metadata": {
        "id": "a54cdb8f"
      },
      "outputs": [],
      "source": [
        "val_dir = \"D:/mosaicPS1/test/\"\n",
        "val_data = []\n",
        "img_size = 32\n",
        "for i in os.listdir(val_dir):\n",
        "    if i in non_chars:\n",
        "        continue\n",
        "    count = 0\n",
        "    sub_directory = os.path.join(val_dir,i)\n",
        "    for j in os.listdir(sub_directory):\n",
        "        count+=1\n",
        "        if count > 1000:\n",
        "            break\n",
        "        img = cv2.imread(os.path.join(sub_directory,j),0)\n",
        "        img = cv2.resize(img,(img_size,img_size))\n",
        "        val_data.append([img,i])"
      ]
    },
    {
      "cell_type": "code",
      "execution_count": null,
      "id": "ed62fad2",
      "metadata": {
        "id": "ed62fad2",
        "outputId": "ba3324c5-9a44-4d9b-ceba-add5dd487696"
      },
      "outputs": [
        {
          "data": {
            "text/plain": [
              "1649"
            ]
          },
          "execution_count": 5,
          "metadata": {},
          "output_type": "execute_result"
        }
      ],
      "source": [
        "len(val_data)"
      ]
    },
    {
      "cell_type": "code",
      "execution_count": null,
      "id": "0bee4998",
      "metadata": {
        "id": "0bee4998"
      },
      "outputs": [],
      "source": [
        "random.shuffle(train_data)\n",
        "random.shuffle(val_data)"
      ]
    },
    {
      "cell_type": "code",
      "execution_count": null,
      "id": "a4dba9bf",
      "metadata": {
        "id": "a4dba9bf"
      },
      "outputs": [],
      "source": [
        "train_X = []\n",
        "train_Y = []\n",
        "for features,label in train_data:\n",
        "    train_X.append(features)\n",
        "    train_Y.append(label)\n",
        "val_X = []\n",
        "val_Y = []\n",
        "for features,label in val_data:\n",
        "    val_X.append(features)\n",
        "    val_Y.append(label)\n",
        "LB = LabelBinarizer()\n",
        "train_Y = LB.fit_transform(train_Y)\n",
        "val_Y = LB.fit_transform(val_Y)\n",
        "train_X = np.array(train_X)/255.0\n",
        "train_X = train_X.reshape(-1,32,32,1)\n",
        "train_Y = np.array(train_Y)"
      ]
    },
    {
      "cell_type": "code",
      "execution_count": null,
      "id": "d77a76aa",
      "metadata": {
        "id": "d77a76aa",
        "outputId": "eb937c1a-aaff-4953-903d-84d84f4989cb"
      },
      "outputs": [
        {
          "name": "stdout",
          "output_type": "stream",
          "text": [
            "(5549, 32, 32, 1) (1649, 32, 32, 1)\n"
          ]
        }
      ],
      "source": [
        "val_X = np.array(val_X)/255.0\n",
        "val_X = val_X.reshape(-1,32,32,1)\n",
        "val_Y = np.array(val_Y)\n",
        "print(train_X.shape,val_X.shape)"
      ]
    },
    {
      "cell_type": "code",
      "execution_count": null,
      "id": "db671286",
      "metadata": {
        "id": "db671286",
        "outputId": "a1b1015a-5d7e-4452-ee43-9a08335161af"
      },
      "outputs": [
        {
          "name": "stdout",
          "output_type": "stream",
          "text": [
            "(5549, 33) (1649, 33)\n"
          ]
        }
      ],
      "source": [
        "print(train_Y.shape,val_Y.shape)"
      ]
    },
    {
      "cell_type": "code",
      "execution_count": null,
      "id": "871fa010",
      "metadata": {
        "id": "871fa010",
        "outputId": "f853571b-f520-4500-a51a-62b6a80b809e"
      },
      "outputs": [
        {
          "name": "stdout",
          "output_type": "stream",
          "text": [
            "Model: \"sequential_1\"\n",
            "_________________________________________________________________\n",
            "Layer (type)                 Output Shape              Param #   \n",
            "=================================================================\n",
            "conv2d_3 (Conv2D)            (None, 32, 32, 32)        320       \n",
            "_________________________________________________________________\n",
            "max_pooling2d_3 (MaxPooling2 (None, 16, 16, 32)        0         \n",
            "_________________________________________________________________\n",
            "conv2d_4 (Conv2D)            (None, 14, 14, 64)        18496     \n",
            "_________________________________________________________________\n",
            "max_pooling2d_4 (MaxPooling2 (None, 7, 7, 64)          0         \n",
            "_________________________________________________________________\n",
            "conv2d_5 (Conv2D)            (None, 5, 5, 128)         73856     \n",
            "_________________________________________________________________\n",
            "max_pooling2d_5 (MaxPooling2 (None, 2, 2, 128)         0         \n",
            "_________________________________________________________________\n",
            "dropout_2 (Dropout)          (None, 2, 2, 128)         0         \n",
            "_________________________________________________________________\n",
            "flatten_1 (Flatten)          (None, 512)               0         \n",
            "_________________________________________________________________\n",
            "dense_2 (Dense)              (None, 128)               65664     \n",
            "_________________________________________________________________\n",
            "dropout_3 (Dropout)          (None, 128)               0         \n",
            "_________________________________________________________________\n",
            "dense_3 (Dense)              (None, 33)                4257      \n",
            "=================================================================\n",
            "Total params: 162,593\n",
            "Trainable params: 162,593\n",
            "Non-trainable params: 0\n",
            "_________________________________________________________________\n"
          ]
        }
      ],
      "source": [
        "model = Sequential()\n",
        "\n",
        "model.add(Conv2D(32, (3, 3), padding = \"same\", activation='relu', input_shape=(32,32,1)))\n",
        "model.add(MaxPooling2D(pool_size=(2,2)))\n",
        "model.add(Conv2D(64, (3, 3), activation='relu'))\n",
        "model.add(MaxPooling2D(pool_size=(2,2)))\n",
        "model.add(Conv2D(128, (3, 3), activation='relu'))\n",
        "model.add(MaxPooling2D(pool_size=(2,2)))\n",
        "model.add(Dropout(0.25))\n",
        " \n",
        "model.add(Flatten())\n",
        "model.add(Dense(128, activation='relu'))\n",
        "model.add(Dropout(0.2))\n",
        "model.add(Dense(33, activation='softmax'))\n",
        "model.summary()"
      ]
    },
    {
      "cell_type": "code",
      "execution_count": null,
      "id": "25bf3948",
      "metadata": {
        "id": "25bf3948"
      },
      "outputs": [],
      "source": [
        "model.compile(loss='categorical_crossentropy', optimizer=\"adam\",metrics=['accuracy'])"
      ]
    },
    {
      "cell_type": "code",
      "execution_count": null,
      "id": "1b3cfbb2",
      "metadata": {
        "id": "1b3cfbb2",
        "outputId": "9a97f5e3-85e4-48ee-e109-01e3be5d4bc2"
      },
      "outputs": [
        {
          "name": "stdout",
          "output_type": "stream",
          "text": [
            "Epoch 1/150\n",
            "174/174 [==============================] - 4s 24ms/step - loss: 0.0483 - accuracy: 0.9852 - val_loss: 0.2060 - val_accuracy: 0.9545\n",
            "Epoch 2/150\n",
            "174/174 [==============================] - 4s 21ms/step - loss: 0.0435 - accuracy: 0.9863 - val_loss: 0.1731 - val_accuracy: 0.9606\n",
            "Epoch 3/150\n",
            "174/174 [==============================] - 4s 21ms/step - loss: 0.0367 - accuracy: 0.9872 - val_loss: 0.2139 - val_accuracy: 0.9606\n",
            "Epoch 4/150\n",
            "174/174 [==============================] - 4s 21ms/step - loss: 0.0317 - accuracy: 0.9895 - val_loss: 0.2031 - val_accuracy: 0.9612\n",
            "Epoch 5/150\n",
            "174/174 [==============================] - 4s 22ms/step - loss: 0.0295 - accuracy: 0.9897 - val_loss: 0.1987 - val_accuracy: 0.9642\n",
            "Epoch 6/150\n",
            "174/174 [==============================] - 4s 22ms/step - loss: 0.0375 - accuracy: 0.9881 - val_loss: 0.2077 - val_accuracy: 0.9612\n",
            "Epoch 7/150\n",
            "174/174 [==============================] - 4s 21ms/step - loss: 0.0289 - accuracy: 0.9908 - val_loss: 0.2445 - val_accuracy: 0.9588\n",
            "Epoch 8/150\n",
            "174/174 [==============================] - 4s 21ms/step - loss: 0.0555 - accuracy: 0.9832 - val_loss: 0.2359 - val_accuracy: 0.9545\n",
            "Epoch 9/150\n",
            "174/174 [==============================] - 4s 21ms/step - loss: 0.0403 - accuracy: 0.9859 - val_loss: 0.2721 - val_accuracy: 0.9539\n",
            "Epoch 10/150\n",
            "174/174 [==============================] - 4s 22ms/step - loss: 0.0322 - accuracy: 0.9908 - val_loss: 0.2272 - val_accuracy: 0.9582\n",
            "Epoch 11/150\n",
            "174/174 [==============================] - 4s 21ms/step - loss: 0.0501 - accuracy: 0.9850 - val_loss: 0.2139 - val_accuracy: 0.9563\n",
            "Epoch 12/150\n",
            "174/174 [==============================] - 4s 21ms/step - loss: 0.0325 - accuracy: 0.9895 - val_loss: 0.2159 - val_accuracy: 0.9515\n",
            "Epoch 13/150\n",
            "174/174 [==============================] - 4s 21ms/step - loss: 0.0317 - accuracy: 0.9904 - val_loss: 0.2387 - val_accuracy: 0.9557\n",
            "Epoch 14/150\n",
            "174/174 [==============================] - 4s 23ms/step - loss: 0.0279 - accuracy: 0.9921 - val_loss: 0.2198 - val_accuracy: 0.9606\n",
            "Epoch 15/150\n",
            "174/174 [==============================] - 4s 23ms/step - loss: 0.0326 - accuracy: 0.9903 - val_loss: 0.2447 - val_accuracy: 0.9612\n",
            "Epoch 16/150\n",
            "174/174 [==============================] - 4s 24ms/step - loss: 0.0370 - accuracy: 0.9867 - val_loss: 0.2151 - val_accuracy: 0.9582\n",
            "Epoch 17/150\n",
            "174/174 [==============================] - 4s 24ms/step - loss: 0.0356 - accuracy: 0.9879 - val_loss: 0.2800 - val_accuracy: 0.9563\n",
            "Epoch 18/150\n",
            "174/174 [==============================] - 4s 24ms/step - loss: 0.0282 - accuracy: 0.9910 - val_loss: 0.2483 - val_accuracy: 0.9624\n",
            "Epoch 19/150\n",
            "174/174 [==============================] - 4s 22ms/step - loss: 0.0295 - accuracy: 0.9895 - val_loss: 0.2207 - val_accuracy: 0.9576\n",
            "Epoch 20/150\n",
            "174/174 [==============================] - 4s 22ms/step - loss: 0.0239 - accuracy: 0.9917 - val_loss: 0.2092 - val_accuracy: 0.9624\n",
            "Epoch 21/150\n",
            "174/174 [==============================] - 4s 23ms/step - loss: 0.0321 - accuracy: 0.9885 - val_loss: 0.2500 - val_accuracy: 0.9618\n",
            "Epoch 22/150\n",
            "174/174 [==============================] - 4s 24ms/step - loss: 0.0324 - accuracy: 0.9903 - val_loss: 0.2405 - val_accuracy: 0.9606\n",
            "Epoch 23/150\n",
            "174/174 [==============================] - 4s 22ms/step - loss: 0.0241 - accuracy: 0.9917 - val_loss: 0.2524 - val_accuracy: 0.9576\n",
            "Epoch 24/150\n",
            "174/174 [==============================] - 4s 23ms/step - loss: 0.0376 - accuracy: 0.9870 - val_loss: 0.2262 - val_accuracy: 0.9691\n",
            "Epoch 25/150\n",
            "174/174 [==============================] - 4s 23ms/step - loss: 0.0308 - accuracy: 0.9897 - val_loss: 0.2374 - val_accuracy: 0.9618\n",
            "Epoch 26/150\n",
            "174/174 [==============================] - 4s 24ms/step - loss: 0.0281 - accuracy: 0.9913 - val_loss: 0.1842 - val_accuracy: 0.9703\n",
            "Epoch 27/150\n",
            "174/174 [==============================] - 4s 23ms/step - loss: 0.0332 - accuracy: 0.9901 - val_loss: 0.2904 - val_accuracy: 0.9551\n",
            "Epoch 28/150\n",
            "174/174 [==============================] - 4s 22ms/step - loss: 0.0307 - accuracy: 0.9906 - val_loss: 0.2324 - val_accuracy: 0.9606\n",
            "Epoch 29/150\n",
            "174/174 [==============================] - 4s 23ms/step - loss: 0.0226 - accuracy: 0.9926 - val_loss: 0.2261 - val_accuracy: 0.9600\n",
            "Epoch 30/150\n",
            "174/174 [==============================] - 4s 25ms/step - loss: 0.0241 - accuracy: 0.9924 - val_loss: 0.2359 - val_accuracy: 0.9600\n",
            "Epoch 31/150\n",
            "174/174 [==============================] - 4s 23ms/step - loss: 0.0290 - accuracy: 0.9921 - val_loss: 0.2371 - val_accuracy: 0.9630\n",
            "Epoch 32/150\n",
            "174/174 [==============================] - 4s 23ms/step - loss: 0.0324 - accuracy: 0.9910 - val_loss: 0.2294 - val_accuracy: 0.9630\n",
            "Epoch 33/150\n",
            "174/174 [==============================] - 4s 23ms/step - loss: 0.0241 - accuracy: 0.9913 - val_loss: 0.2966 - val_accuracy: 0.9582\n",
            "Epoch 34/150\n",
            "174/174 [==============================] - 4s 24ms/step - loss: 0.0259 - accuracy: 0.9924 - val_loss: 0.2213 - val_accuracy: 0.9600\n",
            "Epoch 35/150\n",
            "174/174 [==============================] - 4s 23ms/step - loss: 0.0358 - accuracy: 0.9895 - val_loss: 0.2207 - val_accuracy: 0.9606\n",
            "Epoch 36/150\n",
            "174/174 [==============================] - 4s 23ms/step - loss: 0.0228 - accuracy: 0.9921 - val_loss: 0.2633 - val_accuracy: 0.9606\n",
            "Epoch 37/150\n",
            "174/174 [==============================] - 4s 22ms/step - loss: 0.0232 - accuracy: 0.9923 - val_loss: 0.2210 - val_accuracy: 0.9660\n",
            "Epoch 38/150\n",
            "174/174 [==============================] - 4s 23ms/step - loss: 0.0215 - accuracy: 0.9939 - val_loss: 0.2156 - val_accuracy: 0.9679\n",
            "Epoch 39/150\n",
            "174/174 [==============================] - 4s 25ms/step - loss: 0.0255 - accuracy: 0.9917 - val_loss: 0.2665 - val_accuracy: 0.9648\n",
            "Epoch 40/150\n",
            "174/174 [==============================] - 5s 27ms/step - loss: 0.0370 - accuracy: 0.9890 - val_loss: 0.2026 - val_accuracy: 0.9630\n",
            "Epoch 41/150\n",
            "174/174 [==============================] - 4s 25ms/step - loss: 0.0281 - accuracy: 0.9906 - val_loss: 0.2153 - val_accuracy: 0.9624\n",
            "Epoch 42/150\n",
            "174/174 [==============================] - 4s 25ms/step - loss: 0.0173 - accuracy: 0.9951 - val_loss: 0.2342 - val_accuracy: 0.9654\n",
            "Epoch 43/150\n",
            "174/174 [==============================] - 4s 23ms/step - loss: 0.0265 - accuracy: 0.9924 - val_loss: 0.2198 - val_accuracy: 0.9673\n",
            "Epoch 44/150\n",
            "174/174 [==============================] - 4s 24ms/step - loss: 0.0242 - accuracy: 0.9919 - val_loss: 0.2583 - val_accuracy: 0.9612\n",
            "Epoch 45/150\n",
            "174/174 [==============================] - 5s 28ms/step - loss: 0.0255 - accuracy: 0.9901 - val_loss: 0.2007 - val_accuracy: 0.9600\n",
            "Epoch 46/150\n",
            "174/174 [==============================] - 4s 26ms/step - loss: 0.0187 - accuracy: 0.9950 - val_loss: 0.2473 - val_accuracy: 0.9594\n",
            "Epoch 47/150\n",
            "174/174 [==============================] - 4s 25ms/step - loss: 0.0292 - accuracy: 0.9919 - val_loss: 0.2617 - val_accuracy: 0.9666\n",
            "Epoch 48/150\n",
            "174/174 [==============================] - 4s 22ms/step - loss: 0.0326 - accuracy: 0.9901 - val_loss: 0.2465 - val_accuracy: 0.9654\n",
            "Epoch 49/150\n",
            "174/174 [==============================] - 4s 23ms/step - loss: 0.0270 - accuracy: 0.9915 - val_loss: 0.2394 - val_accuracy: 0.9636\n",
            "Epoch 50/150\n",
            "174/174 [==============================] - 4s 25ms/step - loss: 0.0253 - accuracy: 0.9908 - val_loss: 0.2381 - val_accuracy: 0.9612\n",
            "Epoch 51/150\n",
            "174/174 [==============================] - 4s 25ms/step - loss: 0.0168 - accuracy: 0.9923 - val_loss: 0.2415 - val_accuracy: 0.9636\n",
            "Epoch 52/150\n",
            "174/174 [==============================] - 4s 25ms/step - loss: 0.0231 - accuracy: 0.9919 - val_loss: 0.2312 - val_accuracy: 0.9642\n",
            "Epoch 53/150\n",
            "174/174 [==============================] - 4s 26ms/step - loss: 0.0302 - accuracy: 0.9912 - val_loss: 0.2804 - val_accuracy: 0.9600\n",
            "Epoch 54/150\n",
            "174/174 [==============================] - 4s 23ms/step - loss: 0.0181 - accuracy: 0.9950 - val_loss: 0.2377 - val_accuracy: 0.9636\n",
            "Epoch 55/150\n",
            "174/174 [==============================] - 5s 28ms/step - loss: 0.0196 - accuracy: 0.9933 - val_loss: 0.2377 - val_accuracy: 0.9642\n",
            "Epoch 56/150\n",
            "174/174 [==============================] - 5s 26ms/step - loss: 0.0263 - accuracy: 0.9910 - val_loss: 0.2496 - val_accuracy: 0.9618\n",
            "Epoch 57/150\n",
            "174/174 [==============================] - 4s 23ms/step - loss: 0.0144 - accuracy: 0.9955 - val_loss: 0.2510 - val_accuracy: 0.9660\n",
            "Epoch 58/150\n",
            "174/174 [==============================] - 4s 21ms/step - loss: 0.0160 - accuracy: 0.9957 - val_loss: 0.2737 - val_accuracy: 0.9666\n",
            "Epoch 59/150\n",
            "174/174 [==============================] - 4s 21ms/step - loss: 0.0269 - accuracy: 0.9904 - val_loss: 0.3098 - val_accuracy: 0.9582\n",
            "Epoch 60/150\n",
            "174/174 [==============================] - 4s 22ms/step - loss: 0.0343 - accuracy: 0.9897 - val_loss: 0.2601 - val_accuracy: 0.9630\n",
            "Epoch 61/150\n",
            "174/174 [==============================] - 4s 22ms/step - loss: 0.0243 - accuracy: 0.9915 - val_loss: 0.2602 - val_accuracy: 0.9618\n",
            "Epoch 62/150\n",
            "174/174 [==============================] - 4s 22ms/step - loss: 0.0181 - accuracy: 0.9942 - val_loss: 0.2359 - val_accuracy: 0.9666\n",
            "Epoch 63/150\n",
            "174/174 [==============================] - 4s 21ms/step - loss: 0.0271 - accuracy: 0.9915 - val_loss: 0.2213 - val_accuracy: 0.9636\n",
            "Epoch 64/150\n",
            "174/174 [==============================] - 4s 21ms/step - loss: 0.0209 - accuracy: 0.9939 - val_loss: 0.2632 - val_accuracy: 0.9606\n",
            "Epoch 65/150\n",
            "174/174 [==============================] - 4s 23ms/step - loss: 0.0184 - accuracy: 0.9928 - val_loss: 0.2828 - val_accuracy: 0.9660\n",
            "Epoch 66/150\n",
            "174/174 [==============================] - 4s 24ms/step - loss: 0.0301 - accuracy: 0.9910 - val_loss: 0.2064 - val_accuracy: 0.9612\n",
            "Epoch 67/150\n",
            "174/174 [==============================] - 5s 30ms/step - loss: 0.0187 - accuracy: 0.9941 - val_loss: 0.2373 - val_accuracy: 0.9648\n",
            "Epoch 68/150\n",
            "174/174 [==============================] - 5s 30ms/step - loss: 0.0167 - accuracy: 0.9939 - val_loss: 0.2440 - val_accuracy: 0.9618\n",
            "Epoch 69/150\n",
            "174/174 [==============================] - 4s 23ms/step - loss: 0.0182 - accuracy: 0.9932 - val_loss: 0.3243 - val_accuracy: 0.9600\n",
            "Epoch 70/150\n",
            "174/174 [==============================] - 4s 23ms/step - loss: 0.0117 - accuracy: 0.9959 - val_loss: 0.2813 - val_accuracy: 0.9594\n",
            "Epoch 71/150\n",
            "174/174 [==============================] - 4s 23ms/step - loss: 0.0132 - accuracy: 0.9957 - val_loss: 0.3074 - val_accuracy: 0.9624\n",
            "Epoch 72/150\n",
            "174/174 [==============================] - 4s 25ms/step - loss: 0.0126 - accuracy: 0.9964 - val_loss: 0.2926 - val_accuracy: 0.9600\n",
            "Epoch 73/150\n",
            "174/174 [==============================] - 4s 22ms/step - loss: 0.0211 - accuracy: 0.9932 - val_loss: 0.2446 - val_accuracy: 0.9673\n",
            "Epoch 74/150\n",
            "174/174 [==============================] - 4s 21ms/step - loss: 0.0145 - accuracy: 0.9959 - val_loss: 0.2443 - val_accuracy: 0.9648\n",
            "Epoch 75/150\n",
            "174/174 [==============================] - 4s 22ms/step - loss: 0.0319 - accuracy: 0.9890 - val_loss: 0.2251 - val_accuracy: 0.9630\n",
            "Epoch 76/150\n",
            "174/174 [==============================] - 4s 22ms/step - loss: 0.0271 - accuracy: 0.9919 - val_loss: 0.2269 - val_accuracy: 0.9654\n",
            "Epoch 77/150\n",
            "174/174 [==============================] - 4s 22ms/step - loss: 0.0292 - accuracy: 0.9899 - val_loss: 0.3284 - val_accuracy: 0.9648\n",
            "Epoch 78/150\n",
            "174/174 [==============================] - 4s 21ms/step - loss: 0.0199 - accuracy: 0.9941 - val_loss: 0.2499 - val_accuracy: 0.9685\n",
            "Epoch 79/150\n",
            "174/174 [==============================] - 4s 22ms/step - loss: 0.0188 - accuracy: 0.9946 - val_loss: 0.2470 - val_accuracy: 0.9673\n",
            "Epoch 80/150\n",
            "174/174 [==============================] - 4s 22ms/step - loss: 0.0105 - accuracy: 0.9962 - val_loss: 0.2534 - val_accuracy: 0.9673\n",
            "Epoch 81/150\n",
            "174/174 [==============================] - 4s 22ms/step - loss: 0.0187 - accuracy: 0.9941 - val_loss: 0.2738 - val_accuracy: 0.9600\n",
            "Epoch 82/150\n",
            "174/174 [==============================] - 4s 22ms/step - loss: 0.0271 - accuracy: 0.9912 - val_loss: 0.2912 - val_accuracy: 0.9618\n",
            "Epoch 83/150\n",
            "174/174 [==============================] - 4s 22ms/step - loss: 0.0166 - accuracy: 0.9950 - val_loss: 0.2440 - val_accuracy: 0.9630\n",
            "Epoch 84/150\n",
            "174/174 [==============================] - 4s 22ms/step - loss: 0.0124 - accuracy: 0.9951 - val_loss: 0.2808 - val_accuracy: 0.9618\n",
            "Epoch 85/150\n",
            "174/174 [==============================] - 4s 22ms/step - loss: 0.0163 - accuracy: 0.9946 - val_loss: 0.2799 - val_accuracy: 0.9673\n",
            "Epoch 86/150\n",
            "174/174 [==============================] - 4s 22ms/step - loss: 0.0178 - accuracy: 0.9946 - val_loss: 0.2811 - val_accuracy: 0.9660\n",
            "Epoch 87/150\n",
            "174/174 [==============================] - 4s 21ms/step - loss: 0.0244 - accuracy: 0.9923 - val_loss: 0.2556 - val_accuracy: 0.9648\n",
            "Epoch 88/150\n",
            "174/174 [==============================] - 4s 21ms/step - loss: 0.0210 - accuracy: 0.9926 - val_loss: 0.3245 - val_accuracy: 0.9642\n",
            "Epoch 89/150\n",
            "174/174 [==============================] - 4s 23ms/step - loss: 0.0216 - accuracy: 0.9919 - val_loss: 0.2553 - val_accuracy: 0.9685\n",
            "Epoch 90/150\n",
            "174/174 [==============================] - 4s 22ms/step - loss: 0.0190 - accuracy: 0.9944 - val_loss: 0.2736 - val_accuracy: 0.9600\n",
            "Epoch 91/150\n",
            "174/174 [==============================] - 4s 22ms/step - loss: 0.0173 - accuracy: 0.9948 - val_loss: 0.2732 - val_accuracy: 0.9612\n",
            "Epoch 92/150\n",
            "174/174 [==============================] - 4s 23ms/step - loss: 0.0157 - accuracy: 0.9950 - val_loss: 0.2683 - val_accuracy: 0.9660\n",
            "Epoch 93/150\n",
            "174/174 [==============================] - 4s 24ms/step - loss: 0.0187 - accuracy: 0.9942 - val_loss: 0.3326 - val_accuracy: 0.9642\n",
            "Epoch 94/150\n",
            "174/174 [==============================] - 4s 23ms/step - loss: 0.0189 - accuracy: 0.9935 - val_loss: 0.2694 - val_accuracy: 0.9612\n",
            "Epoch 95/150\n",
            "174/174 [==============================] - 4s 23ms/step - loss: 0.0225 - accuracy: 0.9921 - val_loss: 0.2334 - val_accuracy: 0.9636\n",
            "Epoch 96/150\n",
            "174/174 [==============================] - 4s 23ms/step - loss: 0.0176 - accuracy: 0.9942 - val_loss: 0.2377 - val_accuracy: 0.9636\n",
            "Epoch 97/150\n",
            "174/174 [==============================] - 5s 26ms/step - loss: 0.0154 - accuracy: 0.9955 - val_loss: 0.2561 - val_accuracy: 0.9612\n",
            "Epoch 98/150\n",
            "174/174 [==============================] - 4s 22ms/step - loss: 0.0152 - accuracy: 0.9962 - val_loss: 0.2619 - val_accuracy: 0.9679\n",
            "Epoch 99/150\n",
            "174/174 [==============================] - 4s 23ms/step - loss: 0.0221 - accuracy: 0.9930 - val_loss: 0.2638 - val_accuracy: 0.9624\n",
            "Epoch 100/150\n",
            "174/174 [==============================] - 4s 21ms/step - loss: 0.0120 - accuracy: 0.9966 - val_loss: 0.2174 - val_accuracy: 0.9691\n",
            "Epoch 101/150\n",
            "174/174 [==============================] - 5s 27ms/step - loss: 0.0162 - accuracy: 0.9950 - val_loss: 0.2627 - val_accuracy: 0.9618\n",
            "Epoch 102/150\n",
            "174/174 [==============================] - 4s 23ms/step - loss: 0.0188 - accuracy: 0.9944 - val_loss: 0.2350 - val_accuracy: 0.9624\n",
            "Epoch 103/150\n",
            "174/174 [==============================] - 4s 23ms/step - loss: 0.0146 - accuracy: 0.9948 - val_loss: 0.2696 - val_accuracy: 0.9612\n",
            "Epoch 104/150\n",
            "174/174 [==============================] - 5s 26ms/step - loss: 0.0126 - accuracy: 0.9957 - val_loss: 0.2665 - val_accuracy: 0.9642\n",
            "Epoch 105/150\n",
            "174/174 [==============================] - 4s 25ms/step - loss: 0.0217 - accuracy: 0.9935 - val_loss: 0.2970 - val_accuracy: 0.9618\n",
            "Epoch 106/150\n",
            "174/174 [==============================] - 4s 21ms/step - loss: 0.0159 - accuracy: 0.9946 - val_loss: 0.3229 - val_accuracy: 0.9582\n",
            "Epoch 107/150\n",
            "174/174 [==============================] - 4s 25ms/step - loss: 0.0159 - accuracy: 0.9948 - val_loss: 0.2776 - val_accuracy: 0.9636\n",
            "Epoch 108/150\n",
            "174/174 [==============================] - 4s 25ms/step - loss: 0.0216 - accuracy: 0.9942 - val_loss: 0.2581 - val_accuracy: 0.9612\n",
            "Epoch 109/150\n",
            "174/174 [==============================] - 4s 22ms/step - loss: 0.0187 - accuracy: 0.9933 - val_loss: 0.2583 - val_accuracy: 0.9685\n",
            "Epoch 110/150\n",
            "174/174 [==============================] - 4s 21ms/step - loss: 0.0164 - accuracy: 0.9942 - val_loss: 0.3096 - val_accuracy: 0.9606\n",
            "Epoch 111/150\n",
            "174/174 [==============================] - 4s 21ms/step - loss: 0.0148 - accuracy: 0.9955 - val_loss: 0.2675 - val_accuracy: 0.9636\n",
            "Epoch 112/150\n",
            "174/174 [==============================] - 4s 24ms/step - loss: 0.0106 - accuracy: 0.9960 - val_loss: 0.2940 - val_accuracy: 0.9642\n",
            "Epoch 113/150\n",
            "174/174 [==============================] - 5s 27ms/step - loss: 0.0176 - accuracy: 0.9951 - val_loss: 0.2715 - val_accuracy: 0.9654\n",
            "Epoch 114/150\n",
            "174/174 [==============================] - 5s 27ms/step - loss: 0.0190 - accuracy: 0.9942 - val_loss: 0.3018 - val_accuracy: 0.9606\n",
            "Epoch 115/150\n",
            "174/174 [==============================] - 4s 24ms/step - loss: 0.0102 - accuracy: 0.9955 - val_loss: 0.2771 - val_accuracy: 0.9582\n",
            "Epoch 116/150\n",
            "174/174 [==============================] - 4s 23ms/step - loss: 0.0105 - accuracy: 0.9966 - val_loss: 0.3295 - val_accuracy: 0.9654\n",
            "Epoch 117/150\n",
            "174/174 [==============================] - 4s 22ms/step - loss: 0.0192 - accuracy: 0.9953 - val_loss: 0.3128 - val_accuracy: 0.9636\n",
            "Epoch 118/150\n",
            "174/174 [==============================] - 4s 23ms/step - loss: 0.0108 - accuracy: 0.9959 - val_loss: 0.3275 - val_accuracy: 0.9600\n",
            "Epoch 119/150\n",
            "174/174 [==============================] - 4s 23ms/step - loss: 0.0212 - accuracy: 0.9935 - val_loss: 0.3589 - val_accuracy: 0.9612\n",
            "Epoch 120/150\n",
            "174/174 [==============================] - 4s 25ms/step - loss: 0.0206 - accuracy: 0.9928 - val_loss: 0.2765 - val_accuracy: 0.9630\n",
            "Epoch 121/150\n",
            "174/174 [==============================] - 5s 30ms/step - loss: 0.0089 - accuracy: 0.9959 - val_loss: 0.2936 - val_accuracy: 0.9654\n",
            "Epoch 122/150\n",
            "174/174 [==============================] - 4s 25ms/step - loss: 0.0111 - accuracy: 0.9971 - val_loss: 0.2828 - val_accuracy: 0.9636\n",
            "Epoch 123/150\n",
            "174/174 [==============================] - 4s 24ms/step - loss: 0.0153 - accuracy: 0.9953 - val_loss: 0.3038 - val_accuracy: 0.9624\n",
            "Epoch 124/150\n",
            "174/174 [==============================] - 4s 25ms/step - loss: 0.0106 - accuracy: 0.9971 - val_loss: 0.3329 - val_accuracy: 0.9642\n",
            "Epoch 125/150\n",
            "174/174 [==============================] - 4s 23ms/step - loss: 0.0193 - accuracy: 0.9944 - val_loss: 0.2898 - val_accuracy: 0.9660\n",
            "Epoch 126/150\n",
            "174/174 [==============================] - 4s 21ms/step - loss: 0.0256 - accuracy: 0.9919 - val_loss: 0.2966 - val_accuracy: 0.9594\n",
            "Epoch 127/150\n",
            "174/174 [==============================] - 4s 21ms/step - loss: 0.0212 - accuracy: 0.9933 - val_loss: 0.2500 - val_accuracy: 0.9648\n",
            "Epoch 128/150\n",
            "174/174 [==============================] - 4s 24ms/step - loss: 0.0113 - accuracy: 0.9955 - val_loss: 0.3171 - val_accuracy: 0.9673\n",
            "Epoch 129/150\n",
            "174/174 [==============================] - 4s 22ms/step - loss: 0.0114 - accuracy: 0.9969 - val_loss: 0.3056 - val_accuracy: 0.9660\n",
            "Epoch 130/150\n",
            "174/174 [==============================] - 4s 21ms/step - loss: 0.0124 - accuracy: 0.9964 - val_loss: 0.3094 - val_accuracy: 0.9618\n",
            "Epoch 131/150\n",
            "174/174 [==============================] - 4s 22ms/step - loss: 0.0197 - accuracy: 0.9944 - val_loss: 0.2986 - val_accuracy: 0.9642\n",
            "Epoch 132/150\n",
            "174/174 [==============================] - 4s 22ms/step - loss: 0.0194 - accuracy: 0.9942 - val_loss: 0.2744 - val_accuracy: 0.9642\n",
            "Epoch 133/150\n",
            "174/174 [==============================] - 4s 22ms/step - loss: 0.0119 - accuracy: 0.9966 - val_loss: 0.2573 - val_accuracy: 0.9648\n",
            "Epoch 134/150\n",
            "174/174 [==============================] - 4s 23ms/step - loss: 0.0074 - accuracy: 0.9978 - val_loss: 0.2784 - val_accuracy: 0.9630\n",
            "Epoch 135/150\n",
            "174/174 [==============================] - 4s 21ms/step - loss: 0.0122 - accuracy: 0.9960 - val_loss: 0.2843 - val_accuracy: 0.9630\n",
            "Epoch 136/150\n",
            "174/174 [==============================] - 4s 22ms/step - loss: 0.0144 - accuracy: 0.9942 - val_loss: 0.2975 - val_accuracy: 0.9612\n",
            "Epoch 137/150\n",
            "174/174 [==============================] - 4s 20ms/step - loss: 0.0128 - accuracy: 0.9955 - val_loss: 0.2864 - val_accuracy: 0.9618\n",
            "Epoch 138/150\n",
            "174/174 [==============================] - 4s 21ms/step - loss: 0.0151 - accuracy: 0.9953 - val_loss: 0.3274 - val_accuracy: 0.9642\n",
            "Epoch 139/150\n",
            "174/174 [==============================] - 4s 21ms/step - loss: 0.0173 - accuracy: 0.9948 - val_loss: 0.2858 - val_accuracy: 0.9545\n",
            "Epoch 140/150\n",
            "174/174 [==============================] - 4s 22ms/step - loss: 0.0177 - accuracy: 0.9944 - val_loss: 0.3363 - val_accuracy: 0.9539\n",
            "Epoch 141/150\n",
            "174/174 [==============================] - 4s 24ms/step - loss: 0.0167 - accuracy: 0.9953 - val_loss: 0.3152 - val_accuracy: 0.9600\n",
            "Epoch 142/150\n",
            "174/174 [==============================] - 4s 21ms/step - loss: 0.0214 - accuracy: 0.9946 - val_loss: 0.3341 - val_accuracy: 0.9630\n",
            "Epoch 143/150\n",
            "174/174 [==============================] - 4s 23ms/step - loss: 0.0118 - accuracy: 0.9955 - val_loss: 0.2611 - val_accuracy: 0.9654\n",
            "Epoch 144/150\n",
            "174/174 [==============================] - 5s 28ms/step - loss: 0.0102 - accuracy: 0.9960 - val_loss: 0.2831 - val_accuracy: 0.9630\n",
            "Epoch 145/150\n",
            "174/174 [==============================] - 4s 25ms/step - loss: 0.0151 - accuracy: 0.9950 - val_loss: 0.3184 - val_accuracy: 0.9642\n",
            "Epoch 146/150\n",
            "174/174 [==============================] - 4s 25ms/step - loss: 0.0180 - accuracy: 0.9944 - val_loss: 0.2920 - val_accuracy: 0.9624\n",
            "Epoch 147/150\n",
            "174/174 [==============================] - 4s 23ms/step - loss: 0.0138 - accuracy: 0.9959 - val_loss: 0.3075 - val_accuracy: 0.9685\n",
            "Epoch 148/150\n",
            "174/174 [==============================] - 4s 25ms/step - loss: 0.0116 - accuracy: 0.9960 - val_loss: 0.2642 - val_accuracy: 0.9697\n",
            "Epoch 149/150\n",
            "174/174 [==============================] - 4s 25ms/step - loss: 0.0088 - accuracy: 0.9973 - val_loss: 0.2951 - val_accuracy: 0.9666\n",
            "Epoch 150/150\n",
            "174/174 [==============================] - 4s 24ms/step - loss: 0.0152 - accuracy: 0.9953 - val_loss: 0.2863 - val_accuracy: 0.9642\n"
          ]
        }
      ],
      "source": [
        "history = model.fit(train_X,train_Y, epochs=150, batch_size=32, validation_data = (val_X, val_Y),  verbose=1)"
      ]
    },
    {
      "cell_type": "code",
      "execution_count": null,
      "id": "20778808",
      "metadata": {
        "id": "20778808",
        "outputId": "9a905e0a-4745-4280-f2fe-a74ad094c222"
      },
      "outputs": [
        {
          "data": {
            "image/png": "[encoded data removed]",
            "text/plain": [
              "<Figure size 432x288 with 1 Axes>"
            ]
          },
          "metadata": {
            "needs_background": "light"
          },
          "output_type": "display_data"
        }
      ],
      "source": [
        "plt.plot(history.history['accuracy'])\n",
        "plt.plot(history.history['val_accuracy'])\n",
        "plt.title('Training Accuracy vs Validation Accuracy')\n",
        "plt.ylabel('Accuracy')\n",
        "plt.xlabel('Epoch')\n",
        "plt.legend(['Train', 'Validation'], loc='upper left')\n",
        "plt.show()"
      ]
    },
    {
      "cell_type": "code",
      "execution_count": null,
      "id": "f435dfb5",
      "metadata": {
        "id": "f435dfb5",
        "outputId": "29ded689-6232-4325-c7e9-dd5a2f62d519"
      },
      "outputs": [
        {
          "data": {
            "image/png": "[encoded data removed]",
            "text/plain": [
              "<Figure size 432x288 with 1 Axes>"
            ]
          },
          "metadata": {
            "needs_background": "light"
          },
          "output_type": "display_data"
        }
      ],
      "source": [
        "plt.plot(history.history['loss'])\n",
        "plt.plot(history.history['val_loss'])\n",
        "plt.title('Training Loss vs Validation Loss')\n",
        "plt.ylabel('Loss')\n",
        "plt.xlabel('Epoch')\n",
        "plt.legend(['Train', 'Validation'], loc='upper left')\n",
        "plt.show()"
      ]
    },
    {
      "cell_type": "code",
      "execution_count": null,
      "id": "24dfd95c",
      "metadata": {
        "id": "24dfd95c"
      },
      "outputs": [],
      "source": [
        "def sort_contours(cnts, method=\"left-to-right\"):\n",
        "    reverse = False\n",
        "    i = 0\n",
        "    if method == \"right-to-left\" or method == \"bottom-to-top\":\n",
        "        reverse = True\n",
        "    if method == \"top-to-bottom\" or method == \"bottom-to-top\":\n",
        "        i = 1\n",
        "    boundingBoxes = [cv2.boundingRect(c) for c in cnts]\n",
        "    (cnts, boundingBoxes) = zip(*sorted(zip(cnts, boundingBoxes),\n",
        "    key=lambda b:b[1][i], reverse=reverse))\n",
        "    # return the list of sorted contours and bounding boxes\n",
        "    return (cnts, boundingBoxes)"
      ]
    },
    {
      "cell_type": "code",
      "execution_count": null,
      "id": "fab5c5a2",
      "metadata": {
        "id": "fab5c5a2"
      },
      "outputs": [],
      "source": [
        "def get_letters(img):\n",
        "    letters = []\n",
        "    image = cv2.imread(img)\n",
        "    gray = cv2.cvtColor(image, cv2.COLOR_BGR2GRAY)\n",
        "    ret,thresh1 = cv2.threshold(gray ,127,255,cv2.THRESH_BINARY_INV)\n",
        "    dilated = cv2.dilate(thresh1, None, iterations=2)\n",
        "\n",
        "    cnts = cv2.findContours(dilated.copy(), cv2.RETR_EXTERNAL,cv2.CHAIN_APPROX_SIMPLE)\n",
        "    cnts = imutils.grab_contours(cnts)\n",
        "    cnts = sort_contours(cnts, method=\"left-to-right\")[0]\n",
        "    # loop over the contours\n",
        "    for c in cnts:\n",
        "        if cv2.contourArea(c) > 10:\n",
        "            (x, y, w, h) = cv2.boundingRect(c)\n",
        "            cv2.rectangle(image, (x, y), (x + w, y + h), (0, 255, 0), 2)\n",
        "        roi = gray[y:y + h, x:x + w]\n",
        "        thresh = cv2.threshold(roi, 0, 255,cv2.THRESH_BINARY_INV | cv2.THRESH_OTSU)[1]\n",
        "        thresh = cv2.resize(thresh, (32, 32), interpolation = cv2.INTER_CUBIC)\n",
        "        thresh = thresh.astype(\"float32\") / 255.0\n",
        "        thresh = np.expand_dims(thresh, axis=-1)\n",
        "        thresh = thresh.reshape(1,32,32,1)\n",
        "        ypred = model.predict(thresh)\n",
        "        ypred = LB.inverse_transform(ypred)\n",
        "        [x] = ypred\n",
        "        letters.append(x)\n",
        "    return letters, image"
      ]
    },
    {
      "cell_type": "code",
      "execution_count": null,
      "id": "d0717bcc",
      "metadata": {
        "id": "d0717bcc"
      },
      "outputs": [],
      "source": [
        "def get_word(letter):\n",
        "    word = \"\".join(letter)\n",
        "    return word"
      ]
    },
    {
      "cell_type": "code",
      "execution_count": null,
      "id": "83495a0f",
      "metadata": {
        "id": "83495a0f",
        "outputId": "a279899f-aaa9-4759-f9ee-467b0a8fd128"
      },
      "outputs": [
        {
          "name": "stdout",
          "output_type": "stream",
          "text": [
            "DFCK\n"
          ]
        },
        {
          "data": {
            "text/plain": [
              "<matplotlib.image.AxesImage at 0x1e0313af5e0>"
            ]
          },
          "execution_count": 33,
          "metadata": {},
          "output_type": "execute_result"
        },
        {
          "data": {
            "image/png": "[encoded data removed]",
            "text/plain": [
              "<Figure size 432x288 with 1 Axes>"
            ]
          },
          "metadata": {
            "needs_background": "light"
          },
          "output_type": "display_data"
        }
      ],
      "source": [
        "letter,image = get_letters(\"C:/Users/kalpi/OneDrive/Desktop/ch.png\")\n",
        "word = get_word(letter)\n",
        "print(word)\n",
        "plt.imshow(image)"
      ]
    },
    {
      "cell_type": "code",
      "execution_count": null,
      "id": "a1dbe332",
      "metadata": {
        "id": "a1dbe332"
      },
      "outputs": [],
      "source": [
        "model.save(\"Alphabets.h5\")"
      ]
    },
    {
      "cell_type": "code",
      "execution_count": null,
      "id": "e53ab419",
      "metadata": {
        "id": "e53ab419"
      },
      "outputs": [],
      "source": [
        ""
      ]
    }
  ],
  "metadata": {
    "kernelspec": {
      "display_name": "Python 3 (ipykernel)",
      "language": "python",
      "name": "python3"
    },
    "language_info": {
      "codemirror_mode": {
        "name": "ipython",
        "version": 3
      },
      "file_extension": ".py",
      "mimetype": "text/x-python",
      "name": "python",
      "nbconvert_exporter": "python",
      "pygments_lexer": "ipython3",
      "version": "3.8.12"
    },
    "colab": {
      "name": "Character Recognition From Word.ipynb",
      "provenance": []
    }
  },
  "nbformat": 4,
  "nbformat_minor": 5
}