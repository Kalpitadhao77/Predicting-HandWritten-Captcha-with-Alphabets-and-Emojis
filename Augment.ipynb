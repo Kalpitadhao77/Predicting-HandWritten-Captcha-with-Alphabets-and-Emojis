{
 "cells": [
  {
   "cell_type": "code",
   "execution_count": 1,
   "id": "d7878537",
   "metadata": {},
   "outputs": [],
   "source": [
    "import os\n",
    "import h5py\n",
    "import numpy as np\n",
    "from keras.preprocessing.image import ImageDataGenerator\n",
    "from keras import optimizers\n",
    "from tensorflow.keras.models import Sequential\n",
    "from tensorflow.keras.layers import Convolution2D,MaxPooling2D,Activation, Dropout, Flatten, Dense, BatchNormalization\n",
    "import keras\n",
    "from keras.preprocessing.image import ImageDataGenerator\n",
    "from keras.models import Sequential\n",
    "from keras.layers import Conv2D, MaxPooling2D, Flatten, Dense, Dropout, BatchNormalization\n",
    "import numpy as np\n",
    "import matplotlib.pyplot as plt\n",
    "from keras.callbacks import EarlyStopping, ReduceLROnPlateau"
   ]
  },
  {
   "cell_type": "code",
   "execution_count": 2,
   "id": "5e8c561d",
   "metadata": {},
   "outputs": [
    {
     "name": "stdout",
     "output_type": "stream",
     "text": [
      "Found 1075 images belonging to 7 classes.\n",
      "Found 328 images belonging to 7 classes.\n"
     ]
    }
   ],
   "source": [
    "trainDataGen = ImageDataGenerator(\n",
    "\t\trotation_range = 5,\n",
    "\t\twidth_shift_range = 0.1,\n",
    "\t\theight_shift_range = 0.1,\n",
    "\t\trescale = 1.0/255,\n",
    "\t\tshear_range = 0.2,\n",
    "\t\tzoom_range = 0.2,\t\t\n",
    "\t\thorizontal_flip = False,\n",
    "\t\tfill_mode = 'nearest')\n",
    "\n",
    "test_datagen = ImageDataGenerator(rescale=1./255)\n",
    "trainGenerator = trainDataGen.flow_from_directory(\n",
    "\t\t\t\"D:/finalps1/train\",\n",
    "\t\t\ttarget_size = (32,32),\n",
    "\t\t\tbatch_size = 32,\n",
    "\t\t\tcolor_mode = \"grayscale\",\n",
    "\t\t\tclass_mode = \"categorical\")\n",
    "prev = \"\"\n",
    "labels = [\"checkmark\",\"cloud\",\"croissant\",\"heart\",\"laugh\",\"smile\",\"sun\"]\n",
    "count = 0;\n",
    "\n",
    "validation_generator = test_datagen.flow_from_directory(\n",
    "\t\t\t\"D:/finalps1/test\",\n",
    "\t\t\ttarget_size=(32,32),\n",
    "\t\t\tbatch_size=32,\n",
    "\t\t\tcolor_mode = \"grayscale\",\n",
    "\t\t\tclass_mode= 'categorical')"
   ]
  },
  {
   "cell_type": "code",
   "execution_count": null,
   "id": "16226867",
   "metadata": {},
   "outputs": [],
   "source": []
  }
 ],
 "metadata": {
  "kernelspec": {
   "display_name": "Python 3 (ipykernel)",
   "language": "python",
   "name": "python3"
  },
  "language_info": {
   "codemirror_mode": {
    "name": "ipython",
    "version": 3
   },
   "file_extension": ".py",
   "mimetype": "text/x-python",
   "name": "python",
   "nbconvert_exporter": "python",
   "pygments_lexer": "ipython3",
   "version": "3.8.12"
  }
 },
 "nbformat": 4,
 "nbformat_minor": 5
}
